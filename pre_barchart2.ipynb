{
 "cells": [
  {
   "cell_type": "code",
   "execution_count": 43,
   "id": "6b8cf8fa-7241-4bf3-aa34-5fd7f26a9288",
   "metadata": {},
   "outputs": [],
   "source": [
    "import pandas as pd"
   ]
  },
  {
   "cell_type": "code",
   "execution_count": 44,
   "id": "bcb3f8bf-19e4-4d3f-a4ac-dff0fc5de768",
   "metadata": {},
   "outputs": [
    {
     "name": "stdout",
     "output_type": "stream",
     "text": [
      "Requirement already satisfied: openpyxl in ./.pyenv/versions/3.11.8/lib/python3.11/site-packages (3.1.5)\n",
      "Requirement already satisfied: et-xmlfile in ./.pyenv/versions/3.11.8/lib/python3.11/site-packages (from openpyxl) (1.1.0)\n",
      "\n",
      "\u001b[1m[\u001b[0m\u001b[34;49mnotice\u001b[0m\u001b[1;39;49m]\u001b[0m\u001b[39;49m A new release of pip is available: \u001b[0m\u001b[31;49m24.0\u001b[0m\u001b[39;49m -> \u001b[0m\u001b[32;49m24.1.2\u001b[0m\n",
      "\u001b[1m[\u001b[0m\u001b[34;49mnotice\u001b[0m\u001b[1;39;49m]\u001b[0m\u001b[39;49m To update, run: \u001b[0m\u001b[32;49mpip install --upgrade pip\u001b[0m\n",
      "Note: you may need to restart the kernel to use updated packages.\n"
     ]
    }
   ],
   "source": [
    "pip install openpyxl"
   ]
  },
  {
   "cell_type": "code",
   "execution_count": 80,
   "id": "a2e0b339-ce4b-47fe-8c82-d38eb71dd2f3",
   "metadata": {},
   "outputs": [],
   "source": [
    "excel_file_path = '~/Desktop/Tokyomap2/Tokyo_pop.xlsx'"
   ]
  },
  {
   "cell_type": "code",
   "execution_count": 81,
   "id": "003a9c46-ad0a-4ce4-9695-982a45510721",
   "metadata": {},
   "outputs": [],
   "source": [
    "df = pd.read_excel(excel_file_path, sheet_name = 'Sheet2')"
   ]
  },
  {
   "cell_type": "code",
   "execution_count": 82,
   "id": "f4d4e20d-8668-4dac-bea7-dba963aa03f1",
   "metadata": {},
   "outputs": [
    {
     "name": "stdout",
     "output_type": "stream",
     "text": [
      "    code city prefectures  year   0-4yo   5-9yo  10-14yo  15-19yo  20-24yo  \\\n",
      "0  13000    a       Tokyo  2020  521560  532323   514532   550705   857660   \n",
      "1  13000    a       Tokyo  2025  481289  507307   535102   572140   814575   \n",
      "2  13000    a       Tokyo  2030  492341  471728   512190   593925   836895   \n",
      "3  13000    a       Tokyo  2035  508637  482012   475903   565791   856481   \n",
      "4  13000    a       Tokyo  2040  503013  497440   485904   524307   811639   \n",
      "5  13000    a       Tokyo  2045  488484  491495   501029   533036   744755   \n",
      "6  13000    a       Tokyo  2050  468372  476877   494711   547757   748978   \n",
      "\n",
      "   25-29yo  ...  50-54yo  55-59yo  60-64yo  65-69yo  70-74yo  75-79yo  \\\n",
      "0   987393  ...  1067683   894511   707805   696092   804285   646882   \n",
      "1  1007188  ...  1165487  1039512   856151   670668   648947   725300   \n",
      "2   958806  ...  1041378  1135272   995556   813199   627938   588138   \n",
      "3   976542  ...   976302  1012937  1088734   948100   762638   572581   \n",
      "4   992384  ...   912069   949123   970159  1038550   891883   697728   \n",
      "5   935573  ...   944488   886890   909088   925161   979028   819300   \n",
      "6   854010  ...   976245   918630   850336   867585   872788   901833   \n",
      "\n",
      "   80-84yo  85-89yo  90-94yo   95-yo  \n",
      "0   499679   343868   156412   47533  \n",
      "1   544954   372358   202348   71738  \n",
      "2   620361   412889   224573   98193  \n",
      "3   503785   479465   254292  117312  \n",
      "4   495189   390300   305111  138566  \n",
      "5   607248   389856   249333  174446  \n",
      "6   717612   483459   255244  160257  \n",
      "\n",
      "[7 rows x 24 columns]\n"
     ]
    }
   ],
   "source": [
    "print(df.head(9))"
   ]
  },
  {
   "cell_type": "code",
   "execution_count": 83,
   "id": "b6105b55-36a7-4a6b-816d-ad95d11b3040",
   "metadata": {},
   "outputs": [
    {
     "name": "stdout",
     "output_type": "stream",
     "text": [
      "7\n"
     ]
    }
   ],
   "source": [
    "print(len(df))"
   ]
  },
  {
   "cell_type": "code",
   "execution_count": 84,
   "id": "1bd7f081-543e-4e34-8fa7-793336796f9a",
   "metadata": {},
   "outputs": [
    {
     "ename": "KeyError",
     "evalue": "\"['total'] not in index\"",
     "output_type": "error",
     "traceback": [
      "\u001b[0;31m---------------------------------------------------------------------------\u001b[0m",
      "\u001b[0;31mKeyError\u001b[0m                                  Traceback (most recent call last)",
      "Cell \u001b[0;32mIn[84], line 1\u001b[0m\n\u001b[0;32m----> 1\u001b[0m df_line \u001b[38;5;241m=\u001b[39m \u001b[43mdf\u001b[49m\u001b[43m[\u001b[49m\u001b[43m[\u001b[49m\u001b[38;5;124;43m'\u001b[39;49m\u001b[38;5;124;43myear\u001b[39;49m\u001b[38;5;124;43m'\u001b[39;49m\u001b[43m,\u001b[49m\u001b[43m \u001b[49m\u001b[38;5;124;43m'\u001b[39;49m\u001b[38;5;124;43mtotal\u001b[39;49m\u001b[38;5;124;43m'\u001b[39;49m\u001b[43m]\u001b[49m\u001b[43m]\u001b[49m\n",
      "File \u001b[0;32m~/.pyenv/versions/3.11.8/lib/python3.11/site-packages/pandas/core/frame.py:4108\u001b[0m, in \u001b[0;36mDataFrame.__getitem__\u001b[0;34m(self, key)\u001b[0m\n\u001b[1;32m   4106\u001b[0m     \u001b[38;5;28;01mif\u001b[39;00m is_iterator(key):\n\u001b[1;32m   4107\u001b[0m         key \u001b[38;5;241m=\u001b[39m \u001b[38;5;28mlist\u001b[39m(key)\n\u001b[0;32m-> 4108\u001b[0m     indexer \u001b[38;5;241m=\u001b[39m \u001b[38;5;28;43mself\u001b[39;49m\u001b[38;5;241;43m.\u001b[39;49m\u001b[43mcolumns\u001b[49m\u001b[38;5;241;43m.\u001b[39;49m\u001b[43m_get_indexer_strict\u001b[49m\u001b[43m(\u001b[49m\u001b[43mkey\u001b[49m\u001b[43m,\u001b[49m\u001b[43m \u001b[49m\u001b[38;5;124;43m\"\u001b[39;49m\u001b[38;5;124;43mcolumns\u001b[39;49m\u001b[38;5;124;43m\"\u001b[39;49m\u001b[43m)\u001b[49m[\u001b[38;5;241m1\u001b[39m]\n\u001b[1;32m   4110\u001b[0m \u001b[38;5;66;03m# take() does not accept boolean indexers\u001b[39;00m\n\u001b[1;32m   4111\u001b[0m \u001b[38;5;28;01mif\u001b[39;00m \u001b[38;5;28mgetattr\u001b[39m(indexer, \u001b[38;5;124m\"\u001b[39m\u001b[38;5;124mdtype\u001b[39m\u001b[38;5;124m\"\u001b[39m, \u001b[38;5;28;01mNone\u001b[39;00m) \u001b[38;5;241m==\u001b[39m \u001b[38;5;28mbool\u001b[39m:\n",
      "File \u001b[0;32m~/.pyenv/versions/3.11.8/lib/python3.11/site-packages/pandas/core/indexes/base.py:6200\u001b[0m, in \u001b[0;36mIndex._get_indexer_strict\u001b[0;34m(self, key, axis_name)\u001b[0m\n\u001b[1;32m   6197\u001b[0m \u001b[38;5;28;01melse\u001b[39;00m:\n\u001b[1;32m   6198\u001b[0m     keyarr, indexer, new_indexer \u001b[38;5;241m=\u001b[39m \u001b[38;5;28mself\u001b[39m\u001b[38;5;241m.\u001b[39m_reindex_non_unique(keyarr)\n\u001b[0;32m-> 6200\u001b[0m \u001b[38;5;28;43mself\u001b[39;49m\u001b[38;5;241;43m.\u001b[39;49m\u001b[43m_raise_if_missing\u001b[49m\u001b[43m(\u001b[49m\u001b[43mkeyarr\u001b[49m\u001b[43m,\u001b[49m\u001b[43m \u001b[49m\u001b[43mindexer\u001b[49m\u001b[43m,\u001b[49m\u001b[43m \u001b[49m\u001b[43maxis_name\u001b[49m\u001b[43m)\u001b[49m\n\u001b[1;32m   6202\u001b[0m keyarr \u001b[38;5;241m=\u001b[39m \u001b[38;5;28mself\u001b[39m\u001b[38;5;241m.\u001b[39mtake(indexer)\n\u001b[1;32m   6203\u001b[0m \u001b[38;5;28;01mif\u001b[39;00m \u001b[38;5;28misinstance\u001b[39m(key, Index):\n\u001b[1;32m   6204\u001b[0m     \u001b[38;5;66;03m# GH 42790 - Preserve name from an Index\u001b[39;00m\n",
      "File \u001b[0;32m~/.pyenv/versions/3.11.8/lib/python3.11/site-packages/pandas/core/indexes/base.py:6252\u001b[0m, in \u001b[0;36mIndex._raise_if_missing\u001b[0;34m(self, key, indexer, axis_name)\u001b[0m\n\u001b[1;32m   6249\u001b[0m     \u001b[38;5;28;01mraise\u001b[39;00m \u001b[38;5;167;01mKeyError\u001b[39;00m(\u001b[38;5;124mf\u001b[39m\u001b[38;5;124m\"\u001b[39m\u001b[38;5;124mNone of [\u001b[39m\u001b[38;5;132;01m{\u001b[39;00mkey\u001b[38;5;132;01m}\u001b[39;00m\u001b[38;5;124m] are in the [\u001b[39m\u001b[38;5;132;01m{\u001b[39;00maxis_name\u001b[38;5;132;01m}\u001b[39;00m\u001b[38;5;124m]\u001b[39m\u001b[38;5;124m\"\u001b[39m)\n\u001b[1;32m   6251\u001b[0m not_found \u001b[38;5;241m=\u001b[39m \u001b[38;5;28mlist\u001b[39m(ensure_index(key)[missing_mask\u001b[38;5;241m.\u001b[39mnonzero()[\u001b[38;5;241m0\u001b[39m]]\u001b[38;5;241m.\u001b[39munique())\n\u001b[0;32m-> 6252\u001b[0m \u001b[38;5;28;01mraise\u001b[39;00m \u001b[38;5;167;01mKeyError\u001b[39;00m(\u001b[38;5;124mf\u001b[39m\u001b[38;5;124m\"\u001b[39m\u001b[38;5;132;01m{\u001b[39;00mnot_found\u001b[38;5;132;01m}\u001b[39;00m\u001b[38;5;124m not in index\u001b[39m\u001b[38;5;124m\"\u001b[39m)\n",
      "\u001b[0;31mKeyError\u001b[0m: \"['total'] not in index\""
     ]
    }
   ],
   "source": [
    "df_line = df[['year', 'total']]"
   ]
  },
  {
   "cell_type": "code",
   "execution_count": 85,
   "id": "1700cfd0-1f03-4672-9be2-35971330f688",
   "metadata": {},
   "outputs": [
    {
     "name": "stdout",
     "output_type": "stream",
     "text": [
      "Index(['code', 'city', 'prefectures', 'year', '0-4yo', '5-9yo', '10-14yo',\n",
      "       '15-19yo', '20-24yo', '25-29yo', '30-34yo', '35-39yo', '40-44yo',\n",
      "       '45-49yo', '50-54yo', '55-59yo', '60-64yo', '65-69yo', '70-74yo',\n",
      "       '75-79yo', '80-84yo', '85-89yo', '90-94yo', '95-yo'],\n",
      "      dtype='object')\n"
     ]
    }
   ],
   "source": [
    "print(df.columns)"
   ]
  },
  {
   "cell_type": "code",
   "execution_count": 86,
   "id": "202fa7c4-f3b8-4990-aeae-88043fa03b47",
   "metadata": {},
   "outputs": [],
   "source": [
    "line_csv_path = '~/Desktop/Tokyomap2/line_chartdata.csv'"
   ]
  },
  {
   "cell_type": "code",
   "execution_count": 87,
   "id": "43e127e8-f09d-4673-ad0a-b8b9865e7684",
   "metadata": {},
   "outputs": [],
   "source": [
    "df_line.to_csv(line_csv_path,index = False)"
   ]
  },
  {
   "cell_type": "code",
   "execution_count": 88,
   "id": "0f68145d-e888-4eb5-9bb6-2deed0dfa47f",
   "metadata": {},
   "outputs": [],
   "source": [
    "age_columns = [col \n",
    "              for col in df.columns\n",
    "               if 'yo' in col]"
   ]
  },
  {
   "cell_type": "code",
   "execution_count": 89,
   "id": "ce1cdd11-692e-4efd-bb4c-8930ab76480c",
   "metadata": {},
   "outputs": [],
   "source": [
    "df_melted = pd.melt(df, id_vars=['year'], value_vars=age_columns, var_name='Age Group', value_name='Population')"
   ]
  },
  {
   "cell_type": "code",
   "execution_count": 90,
   "id": "482043aa-8340-43b7-967b-f5483035c1f0",
   "metadata": {},
   "outputs": [],
   "source": [
    "df_melted['year'] = df_melted['year'].astype(str)"
   ]
  },
  {
   "cell_type": "code",
   "execution_count": 91,
   "id": "c283ed2b-f676-40e7-aa95-a3e1469f9f2a",
   "metadata": {},
   "outputs": [
    {
     "name": "stdout",
     "output_type": "stream",
     "text": [
      "year          object\n",
      "Age Group     object\n",
      "Population     int64\n",
      "dtype: object\n"
     ]
    }
   ],
   "source": [
    "print(df_melted.dtypes)"
   ]
  },
  {
   "cell_type": "code",
   "execution_count": 92,
   "id": "9469aaa2-7773-4781-bd7d-fed2fabd4a94",
   "metadata": {},
   "outputs": [],
   "source": [
    "bar_chart_csv_path = '~/Desktop/Tokyomap2/barchart_race_data.csv'\n",
    "df_melted.to_csv(bar_chart_csv_path, index=False)"
   ]
  },
  {
   "cell_type": "code",
   "execution_count": 93,
   "id": "ff4856b7-f774-4de4-a061-8ccdd071e622",
   "metadata": {},
   "outputs": [
    {
     "name": "stdout",
     "output_type": "stream",
     "text": [
      "   year Age Group  Population\n",
      "0  2020     0-4yo      521560\n",
      "1  2025     0-4yo      481289\n",
      "2  2030     0-4yo      492341\n",
      "3  2035     0-4yo      508637\n",
      "4  2040     0-4yo      503013\n",
      "5  2045     0-4yo      488484\n",
      "6  2050     0-4yo      468372\n"
     ]
    }
   ],
   "source": [
    "print(df_melted.head(7))"
   ]
  },
  {
   "cell_type": "code",
   "execution_count": 94,
   "id": "7cd25a77-0efb-49d7-969d-15f8291a9180",
   "metadata": {},
   "outputs": [
    {
     "name": "stdout",
     "output_type": "stream",
     "text": [
      "year          object\n",
      "Age Group     object\n",
      "Population     int64\n",
      "dtype: object\n"
     ]
    }
   ],
   "source": [
    "print(df_melted.dtypes)"
   ]
  },
  {
   "cell_type": "code",
   "execution_count": 95,
   "id": "e2ebcfe4-ef2a-44b1-b284-c8111f7e7d93",
   "metadata": {},
   "outputs": [],
   "source": [
    "df_pivot = df.melt(id_vars='year', var_name='Age_Group', value_name='Population')\n",
    "df_pivot = df_pivot.pivot(index='Age_Group', columns='year', values='Population')"
   ]
  },
  {
   "cell_type": "code",
   "execution_count": 96,
   "id": "83bcf3da-65c0-4a28-97cc-5a42f10b9602",
   "metadata": {},
   "outputs": [
    {
     "name": "stdout",
     "output_type": "stream",
     "text": [
      "year            2020     2025     2030     2035     2040    2045    2050\n",
      "Age_Group                                                               \n",
      "0-4yo         521560   481289   492341   508637   503013  488484  468372\n",
      "10-14yo       514532   535102   512190   475903   485904  501029  494711\n",
      "15-19yo       550705   572140   593925   565791   524307  533036  547757\n",
      "20-24yo       857660   814575   836895   856481   811639  744755  748978\n",
      "25-29yo       987393  1007188   958806   976542   992384  935573  854010\n",
      "30-34yo       958959   993389  1025332   974591   986333  996359  934881\n",
      "35-39yo      1009207   938393   976733  1008839   958079  966217  972694\n",
      "40-44yo      1065587   994175   930478   966173   998103  947523  953805\n",
      "45-49yo      1184918  1057893   992666   927868   961539  993432  943070\n",
      "5-9yo         532323   507307   471728   482012   497440  491495  476877\n",
      "50-54yo      1067683  1165487  1041378   976302   912069  944488  976245\n",
      "55-59yo       894511  1039512  1135272  1012937   949123  886890  918630\n",
      "60-64yo       707805   856151   995556  1088734   970159  909088  850336\n",
      "65-69yo       696092   670668   813199   948100  1038550  925161  867585\n",
      "70-74yo       804285   648947   627938   762638   891883  979028  872788\n",
      "75-79yo       646882   725300   588138   572581   697728  819300  901833\n",
      "80-84yo       499679   544954   620361   503785   495189  607248  717612\n",
      "85-89yo       343868   372358   412889   479465   390300  389856  483459\n",
      "90-94yo       156412   202348   224573   254292   305111  249333  255244\n",
      "95-yo          47533    71738    98193   117312   138566  174446  160257\n",
      "city               a        a        a        a        a       a       a\n",
      "code           13000    13000    13000    13000    13000   13000   13000\n",
      "prefectures    Tokyo    Tokyo    Tokyo    Tokyo    Tokyo   Tokyo   Tokyo\n"
     ]
    }
   ],
   "source": [
    "print(df_pivot)"
   ]
  },
  {
   "cell_type": "code",
   "execution_count": 97,
   "id": "763c6389-289a-46c3-b5a1-1509aa35ddee",
   "metadata": {},
   "outputs": [
    {
     "name": "stdout",
     "output_type": "stream",
     "text": [
      "Index(['code', 'city', 'prefectures', 'year', '0-4yo', '5-9yo', '10-14yo',\n",
      "       '15-19yo', '20-24yo', '25-29yo', '30-34yo', '35-39yo', '40-44yo',\n",
      "       '45-49yo', '50-54yo', '55-59yo', '60-64yo', '65-69yo', '70-74yo',\n",
      "       '75-79yo', '80-84yo', '85-89yo', '90-94yo', '95-yo'],\n",
      "      dtype='object')\n"
     ]
    }
   ],
   "source": [
    "print(df.columns)"
   ]
  },
  {
   "cell_type": "code",
   "execution_count": 101,
   "id": "a97152ea-0fc1-44b4-94cf-85b979b8941c",
   "metadata": {},
   "outputs": [],
   "source": [
    "df['0-9yo']=df['0-4yo']+df['5-9yo']\n",
    "df['10-19yo']=df['10-14yo']+df['15-19yo']\n",
    "df['20-29yo']=df['20-24yo']+df['25-29yo']\n",
    "df['30-39yo']=df['30-34yo']+df['35-39yo']\n",
    "df['40-49yo']=df['40-44yo']+df['45-49yo']\n",
    "df['50-59yo']=df['50-54yo']+df['55-59yo']\n",
    "df['60-69yo']=df['60-64yo']+df['65-69yo']\n",
    "df['70-79yo']=df['70-74yo']+df['75-79yo']\n",
    "df['80-89yo']=df['80-84yo']+df['85-89yo']\n",
    "df['90-yo']=df['90-94yo']+df['95-yo']"
   ]
  },
  {
   "cell_type": "code",
   "execution_count": 102,
   "id": "a5f6ab67-9a73-4954-9bbc-22e78371ceb5",
   "metadata": {},
   "outputs": [],
   "source": [
    "df=df.drop(columns=['0-4yo', '5-9yo', '10-14yo',\n",
    "       '15-19yo', '20-24yo', '25-29yo', '30-34yo', '35-39yo', '40-44yo',\n",
    "       '45-49yo', '50-54yo', '55-59yo', '60-64yo', '65-69yo', '70-74yo',\n",
    "       '75-79yo', '80-84yo', '85-89yo', '90-94yo', '95-yo'])"
   ]
  },
  {
   "cell_type": "code",
   "execution_count": 103,
   "id": "0d4197f6-9412-45a7-a837-6cf0e5c82a09",
   "metadata": {},
   "outputs": [
    {
     "data": {
      "text/html": [
       "<div>\n",
       "<style scoped>\n",
       "    .dataframe tbody tr th:only-of-type {\n",
       "        vertical-align: middle;\n",
       "    }\n",
       "\n",
       "    .dataframe tbody tr th {\n",
       "        vertical-align: top;\n",
       "    }\n",
       "\n",
       "    .dataframe thead th {\n",
       "        text-align: right;\n",
       "    }\n",
       "</style>\n",
       "<table border=\"1\" class=\"dataframe\">\n",
       "  <thead>\n",
       "    <tr style=\"text-align: right;\">\n",
       "      <th></th>\n",
       "      <th>code</th>\n",
       "      <th>city</th>\n",
       "      <th>prefectures</th>\n",
       "      <th>year</th>\n",
       "      <th>0-9yo</th>\n",
       "      <th>10-19yo</th>\n",
       "      <th>20-29yo</th>\n",
       "      <th>30-39yo</th>\n",
       "      <th>40-49yo</th>\n",
       "      <th>50-59yo</th>\n",
       "      <th>60-69yo</th>\n",
       "      <th>70-79yo</th>\n",
       "      <th>80-89yo</th>\n",
       "      <th>90-yo</th>\n",
       "    </tr>\n",
       "  </thead>\n",
       "  <tbody>\n",
       "    <tr>\n",
       "      <th>0</th>\n",
       "      <td>13000</td>\n",
       "      <td>a</td>\n",
       "      <td>Tokyo</td>\n",
       "      <td>2020</td>\n",
       "      <td>1053883</td>\n",
       "      <td>1065237</td>\n",
       "      <td>1845053</td>\n",
       "      <td>1968166</td>\n",
       "      <td>2250505</td>\n",
       "      <td>1962194</td>\n",
       "      <td>1403897</td>\n",
       "      <td>1451167</td>\n",
       "      <td>843547</td>\n",
       "      <td>203945</td>\n",
       "    </tr>\n",
       "    <tr>\n",
       "      <th>1</th>\n",
       "      <td>13000</td>\n",
       "      <td>a</td>\n",
       "      <td>Tokyo</td>\n",
       "      <td>2025</td>\n",
       "      <td>988596</td>\n",
       "      <td>1107242</td>\n",
       "      <td>1821763</td>\n",
       "      <td>1931782</td>\n",
       "      <td>2052068</td>\n",
       "      <td>2204999</td>\n",
       "      <td>1526819</td>\n",
       "      <td>1374247</td>\n",
       "      <td>917312</td>\n",
       "      <td>274086</td>\n",
       "    </tr>\n",
       "    <tr>\n",
       "      <th>2</th>\n",
       "      <td>13000</td>\n",
       "      <td>a</td>\n",
       "      <td>Tokyo</td>\n",
       "      <td>2030</td>\n",
       "      <td>964069</td>\n",
       "      <td>1106115</td>\n",
       "      <td>1795701</td>\n",
       "      <td>2002065</td>\n",
       "      <td>1923144</td>\n",
       "      <td>2176650</td>\n",
       "      <td>1808755</td>\n",
       "      <td>1216076</td>\n",
       "      <td>1033250</td>\n",
       "      <td>322766</td>\n",
       "    </tr>\n",
       "    <tr>\n",
       "      <th>3</th>\n",
       "      <td>13000</td>\n",
       "      <td>a</td>\n",
       "      <td>Tokyo</td>\n",
       "      <td>2035</td>\n",
       "      <td>990649</td>\n",
       "      <td>1041694</td>\n",
       "      <td>1833023</td>\n",
       "      <td>1983430</td>\n",
       "      <td>1894041</td>\n",
       "      <td>1989239</td>\n",
       "      <td>2036834</td>\n",
       "      <td>1335219</td>\n",
       "      <td>983250</td>\n",
       "      <td>371604</td>\n",
       "    </tr>\n",
       "    <tr>\n",
       "      <th>4</th>\n",
       "      <td>13000</td>\n",
       "      <td>a</td>\n",
       "      <td>Tokyo</td>\n",
       "      <td>2040</td>\n",
       "      <td>1000453</td>\n",
       "      <td>1010211</td>\n",
       "      <td>1804023</td>\n",
       "      <td>1944412</td>\n",
       "      <td>1959642</td>\n",
       "      <td>1861192</td>\n",
       "      <td>2008709</td>\n",
       "      <td>1589611</td>\n",
       "      <td>885489</td>\n",
       "      <td>443677</td>\n",
       "    </tr>\n",
       "  </tbody>\n",
       "</table>\n",
       "</div>"
      ],
      "text/plain": [
       "    code city prefectures  year    0-9yo  10-19yo  20-29yo  30-39yo  40-49yo  \\\n",
       "0  13000    a       Tokyo  2020  1053883  1065237  1845053  1968166  2250505   \n",
       "1  13000    a       Tokyo  2025   988596  1107242  1821763  1931782  2052068   \n",
       "2  13000    a       Tokyo  2030   964069  1106115  1795701  2002065  1923144   \n",
       "3  13000    a       Tokyo  2035   990649  1041694  1833023  1983430  1894041   \n",
       "4  13000    a       Tokyo  2040  1000453  1010211  1804023  1944412  1959642   \n",
       "\n",
       "   50-59yo  60-69yo  70-79yo  80-89yo   90-yo  \n",
       "0  1962194  1403897  1451167   843547  203945  \n",
       "1  2204999  1526819  1374247   917312  274086  \n",
       "2  2176650  1808755  1216076  1033250  322766  \n",
       "3  1989239  2036834  1335219   983250  371604  \n",
       "4  1861192  2008709  1589611   885489  443677  "
      ]
     },
     "execution_count": 103,
     "metadata": {},
     "output_type": "execute_result"
    }
   ],
   "source": [
    "df.head()"
   ]
  },
  {
   "cell_type": "code",
   "execution_count": 104,
   "id": "6a56008a-0039-4d0b-a60c-5e5de90e767c",
   "metadata": {},
   "outputs": [
    {
     "name": "stdout",
     "output_type": "stream",
     "text": [
      "Index(['code', 'city', 'prefectures', 'year', '0-9yo', '10-19yo', '20-29yo',\n",
      "       '30-39yo', '40-49yo', '50-59yo', '60-69yo', '70-79yo', '80-89yo',\n",
      "       '90-yo'],\n",
      "      dtype='object')\n"
     ]
    }
   ],
   "source": [
    "print(df.columns)"
   ]
  },
  {
   "cell_type": "code",
   "execution_count": 107,
   "id": "c8ef4f3c-d0bf-45c3-8b38-f87291733901",
   "metadata": {},
   "outputs": [
    {
     "ename": "ValueError",
     "evalue": "Length of values (10) does not match length of index (23)",
     "output_type": "error",
     "traceback": [
      "\u001b[0;31m---------------------------------------------------------------------------\u001b[0m",
      "\u001b[0;31mValueError\u001b[0m                                Traceback (most recent call last)",
      "Cell \u001b[0;32mIn[107], line 1\u001b[0m\n\u001b[0;32m----> 1\u001b[0m \u001b[43mdf_pivot\u001b[49m\u001b[38;5;241;43m.\u001b[39;49m\u001b[43minsert\u001b[49m\u001b[43m(\u001b[49m\u001b[38;5;241;43m0\u001b[39;49m\u001b[43m,\u001b[49m\u001b[43m \u001b[49m\u001b[38;5;124;43m'\u001b[39;49m\u001b[38;5;124;43mAge Group\u001b[39;49m\u001b[38;5;124;43m'\u001b[39;49m\u001b[43m,\u001b[49m\u001b[43m[\u001b[49m\u001b[38;5;124;43m'\u001b[39;49m\u001b[38;5;124;43m0-9yo\u001b[39;49m\u001b[38;5;124;43m'\u001b[39;49m\u001b[43m,\u001b[49m\u001b[43m \u001b[49m\u001b[38;5;124;43m'\u001b[39;49m\u001b[38;5;124;43m10-19yo\u001b[39;49m\u001b[38;5;124;43m'\u001b[39;49m\u001b[43m,\u001b[49m\u001b[43m \u001b[49m\u001b[38;5;124;43m'\u001b[39;49m\u001b[38;5;124;43m20-29yo\u001b[39;49m\u001b[38;5;124;43m'\u001b[39;49m\u001b[43m,\u001b[49m\n\u001b[1;32m      2\u001b[0m \u001b[43m       \u001b[49m\u001b[38;5;124;43m'\u001b[39;49m\u001b[38;5;124;43m30-39yo\u001b[39;49m\u001b[38;5;124;43m'\u001b[39;49m\u001b[43m,\u001b[49m\u001b[43m \u001b[49m\u001b[38;5;124;43m'\u001b[39;49m\u001b[38;5;124;43m40-49yo\u001b[39;49m\u001b[38;5;124;43m'\u001b[39;49m\u001b[43m,\u001b[49m\u001b[43m \u001b[49m\u001b[38;5;124;43m'\u001b[39;49m\u001b[38;5;124;43m50-59yo\u001b[39;49m\u001b[38;5;124;43m'\u001b[39;49m\u001b[43m,\u001b[49m\u001b[43m \u001b[49m\u001b[38;5;124;43m'\u001b[39;49m\u001b[38;5;124;43m60-69yo\u001b[39;49m\u001b[38;5;124;43m'\u001b[39;49m\u001b[43m,\u001b[49m\u001b[43m \u001b[49m\u001b[38;5;124;43m'\u001b[39;49m\u001b[38;5;124;43m70-79yo\u001b[39;49m\u001b[38;5;124;43m'\u001b[39;49m\u001b[43m,\u001b[49m\u001b[43m \u001b[49m\u001b[38;5;124;43m'\u001b[39;49m\u001b[38;5;124;43m80-89yo\u001b[39;49m\u001b[38;5;124;43m'\u001b[39;49m\u001b[43m,\u001b[49m\n\u001b[1;32m      3\u001b[0m \u001b[43m       \u001b[49m\u001b[38;5;124;43m'\u001b[39;49m\u001b[38;5;124;43m90-yo\u001b[39;49m\u001b[38;5;124;43m'\u001b[39;49m\u001b[43m]\u001b[49m\u001b[43m)\u001b[49m\n",
      "File \u001b[0;32m~/.pyenv/versions/3.11.8/lib/python3.11/site-packages/pandas/core/frame.py:5171\u001b[0m, in \u001b[0;36mDataFrame.insert\u001b[0;34m(self, loc, column, value, allow_duplicates)\u001b[0m\n\u001b[1;32m   5168\u001b[0m \u001b[38;5;28;01melif\u001b[39;00m \u001b[38;5;28misinstance\u001b[39m(value, DataFrame):\n\u001b[1;32m   5169\u001b[0m     value \u001b[38;5;241m=\u001b[39m value\u001b[38;5;241m.\u001b[39miloc[:, \u001b[38;5;241m0\u001b[39m]\n\u001b[0;32m-> 5171\u001b[0m value, refs \u001b[38;5;241m=\u001b[39m \u001b[38;5;28;43mself\u001b[39;49m\u001b[38;5;241;43m.\u001b[39;49m\u001b[43m_sanitize_column\u001b[49m\u001b[43m(\u001b[49m\u001b[43mvalue\u001b[49m\u001b[43m)\u001b[49m\n\u001b[1;32m   5172\u001b[0m \u001b[38;5;28mself\u001b[39m\u001b[38;5;241m.\u001b[39m_mgr\u001b[38;5;241m.\u001b[39minsert(loc, column, value, refs\u001b[38;5;241m=\u001b[39mrefs)\n",
      "File \u001b[0;32m~/.pyenv/versions/3.11.8/lib/python3.11/site-packages/pandas/core/frame.py:5266\u001b[0m, in \u001b[0;36mDataFrame._sanitize_column\u001b[0;34m(self, value)\u001b[0m\n\u001b[1;32m   5263\u001b[0m     \u001b[38;5;28;01mreturn\u001b[39;00m _reindex_for_setitem(value, \u001b[38;5;28mself\u001b[39m\u001b[38;5;241m.\u001b[39mindex)\n\u001b[1;32m   5265\u001b[0m \u001b[38;5;28;01mif\u001b[39;00m is_list_like(value):\n\u001b[0;32m-> 5266\u001b[0m     \u001b[43mcom\u001b[49m\u001b[38;5;241;43m.\u001b[39;49m\u001b[43mrequire_length_match\u001b[49m\u001b[43m(\u001b[49m\u001b[43mvalue\u001b[49m\u001b[43m,\u001b[49m\u001b[43m \u001b[49m\u001b[38;5;28;43mself\u001b[39;49m\u001b[38;5;241;43m.\u001b[39;49m\u001b[43mindex\u001b[49m\u001b[43m)\u001b[49m\n\u001b[1;32m   5267\u001b[0m arr \u001b[38;5;241m=\u001b[39m sanitize_array(value, \u001b[38;5;28mself\u001b[39m\u001b[38;5;241m.\u001b[39mindex, copy\u001b[38;5;241m=\u001b[39m\u001b[38;5;28;01mTrue\u001b[39;00m, allow_2d\u001b[38;5;241m=\u001b[39m\u001b[38;5;28;01mTrue\u001b[39;00m)\n\u001b[1;32m   5268\u001b[0m \u001b[38;5;28;01mif\u001b[39;00m (\n\u001b[1;32m   5269\u001b[0m     \u001b[38;5;28misinstance\u001b[39m(value, Index)\n\u001b[1;32m   5270\u001b[0m     \u001b[38;5;129;01mand\u001b[39;00m value\u001b[38;5;241m.\u001b[39mdtype \u001b[38;5;241m==\u001b[39m \u001b[38;5;124m\"\u001b[39m\u001b[38;5;124mobject\u001b[39m\u001b[38;5;124m\"\u001b[39m\n\u001b[0;32m   (...)\u001b[0m\n\u001b[1;32m   5273\u001b[0m     \u001b[38;5;66;03m# TODO: Remove kludge in sanitize_array for string mode when enforcing\u001b[39;00m\n\u001b[1;32m   5274\u001b[0m     \u001b[38;5;66;03m# this deprecation\u001b[39;00m\n",
      "File \u001b[0;32m~/.pyenv/versions/3.11.8/lib/python3.11/site-packages/pandas/core/common.py:573\u001b[0m, in \u001b[0;36mrequire_length_match\u001b[0;34m(data, index)\u001b[0m\n\u001b[1;32m    569\u001b[0m \u001b[38;5;250m\u001b[39m\u001b[38;5;124;03m\"\"\"\u001b[39;00m\n\u001b[1;32m    570\u001b[0m \u001b[38;5;124;03mCheck the length of data matches the length of the index.\u001b[39;00m\n\u001b[1;32m    571\u001b[0m \u001b[38;5;124;03m\"\"\"\u001b[39;00m\n\u001b[1;32m    572\u001b[0m \u001b[38;5;28;01mif\u001b[39;00m \u001b[38;5;28mlen\u001b[39m(data) \u001b[38;5;241m!=\u001b[39m \u001b[38;5;28mlen\u001b[39m(index):\n\u001b[0;32m--> 573\u001b[0m     \u001b[38;5;28;01mraise\u001b[39;00m \u001b[38;5;167;01mValueError\u001b[39;00m(\n\u001b[1;32m    574\u001b[0m         \u001b[38;5;124m\"\u001b[39m\u001b[38;5;124mLength of values \u001b[39m\u001b[38;5;124m\"\u001b[39m\n\u001b[1;32m    575\u001b[0m         \u001b[38;5;124mf\u001b[39m\u001b[38;5;124m\"\u001b[39m\u001b[38;5;124m(\u001b[39m\u001b[38;5;132;01m{\u001b[39;00m\u001b[38;5;28mlen\u001b[39m(data)\u001b[38;5;132;01m}\u001b[39;00m\u001b[38;5;124m) \u001b[39m\u001b[38;5;124m\"\u001b[39m\n\u001b[1;32m    576\u001b[0m         \u001b[38;5;124m\"\u001b[39m\u001b[38;5;124mdoes not match length of index \u001b[39m\u001b[38;5;124m\"\u001b[39m\n\u001b[1;32m    577\u001b[0m         \u001b[38;5;124mf\u001b[39m\u001b[38;5;124m\"\u001b[39m\u001b[38;5;124m(\u001b[39m\u001b[38;5;132;01m{\u001b[39;00m\u001b[38;5;28mlen\u001b[39m(index)\u001b[38;5;132;01m}\u001b[39;00m\u001b[38;5;124m)\u001b[39m\u001b[38;5;124m\"\u001b[39m\n\u001b[1;32m    578\u001b[0m     )\n",
      "\u001b[0;31mValueError\u001b[0m: Length of values (10) does not match length of index (23)"
     ]
    }
   ],
   "source": [
    "df_pivot.insert(0, 'Age Group',['0-9yo', '10-19yo', '20-29yo',\n",
    "       '30-39yo', '40-49yo', '50-59yo', '60-69yo', '70-79yo', '80-89yo',\n",
    "       '90-yo'])"
   ]
  },
  {
   "cell_type": "code",
   "execution_count": 105,
   "id": "b1b23c31-bd51-45e8-b101-accabec013ba",
   "metadata": {},
   "outputs": [],
   "source": [
    "df_pivot.to_csv('~/Desktop/Tokyomap2/p_population_data2.csv', index=False)"
   ]
  },
  {
   "cell_type": "code",
   "execution_count": null,
   "id": "90f254b7-691a-4cf8-9178-608a744af09d",
   "metadata": {},
   "outputs": [],
   "source": []
  }
 ],
 "metadata": {
  "kernelspec": {
   "display_name": "Python 3 (ipykernel)",
   "language": "python",
   "name": "python3"
  },
  "language_info": {
   "codemirror_mode": {
    "name": "ipython",
    "version": 3
   },
   "file_extension": ".py",
   "mimetype": "text/x-python",
   "name": "python",
   "nbconvert_exporter": "python",
   "pygments_lexer": "ipython3",
   "version": "3.11.8"
  }
 },
 "nbformat": 4,
 "nbformat_minor": 5
}
